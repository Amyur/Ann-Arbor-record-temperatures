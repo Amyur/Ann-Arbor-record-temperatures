{
 "cells": [
  {
   "cell_type": "code",
   "execution_count": null,
   "metadata": {},
   "outputs": [],
   "source": [
    "import matplotlib.pyplot as plt\n",
    "import pandas as pd\n",
    "import numpy as np"
   ]
  },
  {
   "cell_type": "code",
   "execution_count": null,
   "metadata": {},
   "outputs": [],
   "source": [
    "%matplotlib notebook"
   ]
  },
  {
   "cell_type": "code",
   "execution_count": null,
   "metadata": {},
   "outputs": [],
   "source": [
    "df = pd.read_csv('data.csv')\n",
    "df[\"Date\"] = pd.to_datetime(df[\"Date\"])\n",
    "df = df.sort_values(\"Date\")\n",
    "df[\"Day\"] = df[\"Date\"].dt.day\n",
    "df[\"Month\"] = df[\"Date\"].dt.month\n",
    "df[\"Day\"] = df[~((df[\"Day\"]==29) & (df[\"Month\"]==2))][\"Day\"]\n",
    "df[\"Year\"] = df[\"Date\"].dt.year\n",
    "df.head(3)"
   ]
  },
  {
   "cell_type": "code",
   "execution_count": null,
   "metadata": {},
   "outputs": [],
   "source": [
    "data_2014 = df[df[\"Year\"]!=2015]\n",
    "data_2015 = df[df[\"Year\"]==2015]"
   ]
  },
  {
   "cell_type": "code",
   "execution_count": null,
   "metadata": {},
   "outputs": [],
   "source": [
    "min_max_2014 = data_2014.groupby([\"Month\", \"Day\"])[\"Data_Value\"].agg({\"Min\":np.min, \"Max\":np.max})\n",
    "min_max_2015 = data_2015.groupby([\"Month\", \"Day\"])[\"Data_Value\"].agg({\"Min\":np.min, \"Max\":np.max})\n",
    "\n",
    "min_max_2014[\"Min\"] = min_max_2014[\"Min\"]/10 #from tenths to celcius\n",
    "min_max_2014[\"Max\"] = min_max_2014[\"Max\"]/10 #from tenths to celcius\n",
    "\n",
    "min_max_2015[\"Min\"] = min_max_2015[\"Min\"]/10 #from tenths to celcius\n",
    "min_max_2015[\"Max\"] = min_max_2015[\"Max\"]/10 #from tenths to celcius"
   ]
  },
  {
   "cell_type": "code",
   "execution_count": null,
   "metadata": {},
   "outputs": [],
   "source": [
    "min_max_2014[\"month\"] = min_max_2014.index.get_level_values(0).values\n",
    "min_max_2014[\"day\"] = min_max_2014.index.get_level_values(1).values\n",
    "min_max_2014[\"index\"] = range(1, len(min_max_2014)+1)\n",
    "\n",
    "min_max_2015[\"month\"] = min_max_2015.index.get_level_values(0).values\n",
    "min_max_2015[\"day\"] = min_max_2015.index.get_level_values(1).values\n",
    "min_max_2015[\"index\"] = range(1, len(min_max_2015)+1)"
   ]
  },
  {
   "cell_type": "code",
   "execution_count": null,
   "metadata": {},
   "outputs": [],
   "source": [
    "min_max_2015= min_max_2015.reset_index()\n",
    "min_max_2014= min_max_2014.reset_index()"
   ]
  },
  {
   "cell_type": "code",
   "execution_count": null,
   "metadata": {},
   "outputs": [],
   "source": [
    "for i in range(len(min_max_2014)):\n",
    "    if min_max_2015.loc[i,\"Min\"] < min_max_2014.loc[i,\"Min\"]:\n",
    "        min_max_2015.loc[i,\"New_min\"] = min_max_2015.loc[i,\"Min\"]\n",
    "        \n",
    "    if min_max_2015.loc[i,\"Max\"] > min_max_2014.loc[i,\"Max\"]:\n",
    "        min_max_2015.loc[i,\"New_max\"] = min_max_2015.loc[i,\"Max\"]"
   ]
  },
  {
   "cell_type": "code",
   "execution_count": null,
   "metadata": {},
   "outputs": [],
   "source": [
    "plt.figure(figsize=(12,7))\n",
    "plt.plot(min_max_2014[\"index\"], min_max_2014[\"Min\"], \"-\", c=\"darkslategray\", label = '2005-2014 Lows')\n",
    "plt.plot(min_max_2014[\"index\"], min_max_2014[\"Max\"], \"-\", c=\"tomato\", label = '2005-2014 Highs')\n",
    "plt.scatter(min_max_2014[\"index\"], min_max_2015[\"New_min\"], s=20, c=\"darkturquoise\", label = \"2015 Lows\")\n",
    "plt.scatter(min_max_2014[\"index\"], min_max_2015[\"New_max\"], s=20, c=\"darkred\", label = \"2015 Highs\")\n",
    "plt.gca().fill_between(min_max_2014[\"index\"], min_max_2014[\"Min\"], min_max_2014[\"Max\"], facecolor=\"palegreen\", alpha=0.3)\n",
    "\n",
    "plt.title(\"Ann Arbor Record Temperatures (2005-2014) and 2015\")\n",
    "plt.legend(loc='lower center', frameon=True, fontsize=15).get_frame().set_edgecolor('white') \n",
    "plt.ylabel(\"Temperature $(^{\\circ}$C)\")\n",
    "plt.xlabel(\"Day\")\n",
    "plt.grid(axis=\"y\") \n",
    "plt.xticks(np.arange(0, 364, 30))\n",
    "plt.savefig(\"map.jpg\", bbox_inches='tight')"
   ]
  },
  {
   "cell_type": "code",
   "execution_count": null,
   "metadata": {},
   "outputs": [],
   "source": []
  },
  {
   "cell_type": "code",
   "execution_count": null,
   "metadata": {},
   "outputs": [],
   "source": []
  },
  {
   "cell_type": "code",
   "execution_count": null,
   "metadata": {},
   "outputs": [],
   "source": []
  }
 ],
 "metadata": {
  "kernelspec": {
   "display_name": "Python 3",
   "language": "python",
   "name": "python3"
  },
  "language_info": {
   "codemirror_mode": {
    "name": "ipython",
    "version": 3
   },
   "file_extension": ".py",
   "mimetype": "text/x-python",
   "name": "python",
   "nbconvert_exporter": "python",
   "pygments_lexer": "ipython3",
   "version": "3.7.6"
  }
 },
 "nbformat": 4,
 "nbformat_minor": 1
}
